{
 "cells": [
  {
   "cell_type": "code",
   "execution_count": 9,
   "metadata": {
    "collapsed": true
   },
   "outputs": [],
   "source": [
    "# Loads the adapted_scifi_films_db into pandas dataframes\n",
    "\n",
    "from pymongo import MongoClient\n",
    "import pandas as pd"
   ]
  },
  {
   "cell_type": "code",
   "execution_count": 10,
   "metadata": {},
   "outputs": [],
   "source": [
    "conn = 'mongodb://localhost:27017'\n",
    "client = MongoClient(conn)\n",
    "db = client.adapted_scifi_films_db"
   ]
  },
  {
   "cell_type": "code",
   "execution_count": 43,
   "metadata": {
    "collapsed": true
   },
   "outputs": [],
   "source": [
    "books_collection = db.books.find()\n",
    "movies_collection = db.movies.find()"
   ]
  },
  {
   "cell_type": "code",
   "execution_count": 44,
   "metadata": {},
   "outputs": [],
   "source": [
    "books_df = pd.DataFrame(list(books_collection))\n",
    "movies_df = pd.DataFrame(list(movies_collection))\n"
   ]
  },
  {
   "cell_type": "code",
   "execution_count": 45,
   "metadata": {},
   "outputs": [
    {
     "name": "stdout",
     "output_type": "stream",
     "text": [
      "(199, 4)\n"
     ]
    },
    {
     "data": {
      "text/html": [
       "<div>\n",
       "<style>\n",
       "    .dataframe thead tr:only-child th {\n",
       "        text-align: right;\n",
       "    }\n",
       "\n",
       "    .dataframe thead th {\n",
       "        text-align: left;\n",
       "    }\n",
       "\n",
       "    .dataframe tbody tr th {\n",
       "        vertical-align: top;\n",
       "    }\n",
       "</style>\n",
       "<table border=\"1\" class=\"dataframe\">\n",
       "  <thead>\n",
       "    <tr style=\"text-align: right;\">\n",
       "      <th></th>\n",
       "      <th>Average Votes</th>\n",
       "      <th>Book Rating</th>\n",
       "      <th>Book Title</th>\n",
       "      <th>Title</th>\n",
       "    </tr>\n",
       "  </thead>\n",
       "  <tbody>\n",
       "    <tr>\n",
       "      <th>0</th>\n",
       "      <td>156130</td>\n",
       "      <td>3.92</td>\n",
       "      <td>Around the World in Eighty Days (Extraordinary...</td>\n",
       "      <td>around the world in eighty days</td>\n",
       "    </tr>\n",
       "    <tr>\n",
       "      <th>1</th>\n",
       "      <td>17377</td>\n",
       "      <td>3.89</td>\n",
       "      <td>Invasion of the Body Snatchers</td>\n",
       "      <td>body snatchers</td>\n",
       "    </tr>\n",
       "    <tr>\n",
       "      <th>2</th>\n",
       "      <td>992321</td>\n",
       "      <td>3.77</td>\n",
       "      <td>Frankenstein</td>\n",
       "      <td>frankenstein</td>\n",
       "    </tr>\n",
       "    <tr>\n",
       "      <th>3</th>\n",
       "      <td>139972</td>\n",
       "      <td>3.85</td>\n",
       "      <td>Invisible Man</td>\n",
       "      <td>the invisible man</td>\n",
       "    </tr>\n",
       "    <tr>\n",
       "      <th>4</th>\n",
       "      <td>126382</td>\n",
       "      <td>3.85</td>\n",
       "      <td>Journey to the Center of the Earth (Extraordin...</td>\n",
       "      <td>journey to the center of the earth</td>\n",
       "    </tr>\n",
       "  </tbody>\n",
       "</table>\n",
       "</div>"
      ],
      "text/plain": [
       "   Average Votes  Book Rating  \\\n",
       "0         156130         3.92   \n",
       "1          17377         3.89   \n",
       "2         992321         3.77   \n",
       "3         139972         3.85   \n",
       "4         126382         3.85   \n",
       "\n",
       "                                          Book Title  \\\n",
       "0  Around the World in Eighty Days (Extraordinary...   \n",
       "1                     Invasion of the Body Snatchers   \n",
       "2                                       Frankenstein   \n",
       "3                                      Invisible Man   \n",
       "4  Journey to the Center of the Earth (Extraordin...   \n",
       "\n",
       "                                Title  \n",
       "0     around the world in eighty days  \n",
       "1                      body snatchers  \n",
       "2                        frankenstein  \n",
       "3                   the invisible man  \n",
       "4  journey to the center of the earth  "
      ]
     },
     "execution_count": 45,
     "metadata": {},
     "output_type": "execute_result"
    }
   ],
   "source": [
    "books_df = books_df.drop([\"_id\"], axis=1)\n",
    "print(books_df.shape)\n",
    "books_df.head()"
   ]
  },
  {
   "cell_type": "code",
   "execution_count": 46,
   "metadata": {},
   "outputs": [
    {
     "name": "stdout",
     "output_type": "stream",
     "text": [
      "(214, 3)\n"
     ]
    },
    {
     "data": {
      "text/html": [
       "<div>\n",
       "<style>\n",
       "    .dataframe thead tr:only-child th {\n",
       "        text-align: right;\n",
       "    }\n",
       "\n",
       "    .dataframe thead th {\n",
       "        text-align: left;\n",
       "    }\n",
       "\n",
       "    .dataframe tbody tr th {\n",
       "        vertical-align: top;\n",
       "    }\n",
       "</style>\n",
       "<table border=\"1\" class=\"dataframe\">\n",
       "  <thead>\n",
       "    <tr style=\"text-align: right;\">\n",
       "      <th></th>\n",
       "      <th>Movie Rating</th>\n",
       "      <th>Movie Revenue</th>\n",
       "      <th>Title</th>\n",
       "    </tr>\n",
       "  </thead>\n",
       "  <tbody>\n",
       "    <tr>\n",
       "      <th>0</th>\n",
       "      <td>7.8</td>\n",
       "      <td>NaN</td>\n",
       "      <td>around the world in eighty days</td>\n",
       "    </tr>\n",
       "    <tr>\n",
       "      <th>1</th>\n",
       "      <td>5.9</td>\n",
       "      <td>NaN</td>\n",
       "      <td>body snatchers</td>\n",
       "    </tr>\n",
       "    <tr>\n",
       "      <th>2</th>\n",
       "      <td>7.9</td>\n",
       "      <td>NaN</td>\n",
       "      <td>frankenstein</td>\n",
       "    </tr>\n",
       "    <tr>\n",
       "      <th>3</th>\n",
       "      <td>7.7</td>\n",
       "      <td>NaN</td>\n",
       "      <td>the invisible man</td>\n",
       "    </tr>\n",
       "    <tr>\n",
       "      <th>4</th>\n",
       "      <td>5.8</td>\n",
       "      <td>101653320.0</td>\n",
       "      <td>journey to the center of the earth</td>\n",
       "    </tr>\n",
       "  </tbody>\n",
       "</table>\n",
       "</div>"
      ],
      "text/plain": [
       "   Movie Rating  Movie Revenue                               Title\n",
       "0           7.8            NaN     around the world in eighty days\n",
       "1           5.9            NaN                      body snatchers\n",
       "2           7.9            NaN                        frankenstein\n",
       "3           7.7            NaN                   the invisible man\n",
       "4           5.8    101653320.0  journey to the center of the earth"
      ]
     },
     "execution_count": 46,
     "metadata": {},
     "output_type": "execute_result"
    }
   ],
   "source": [
    "movies_df = movies_df.drop([\"_id\"], axis=1)\n",
    "print(movies_df.shape)\n",
    "movies_df.head()"
   ]
  },
  {
   "cell_type": "code",
   "execution_count": 66,
   "metadata": {
    "collapsed": true
   },
   "outputs": [],
   "source": [
    "CombinedDF = pd.merge(books_df, movies_df, on=\"Title\", how=\"inner\")"
   ]
  },
  {
   "cell_type": "code",
   "execution_count": 67,
   "metadata": {},
   "outputs": [
    {
     "name": "stdout",
     "output_type": "stream",
     "text": [
      "(203, 6)\n"
     ]
    },
    {
     "data": {
      "text/html": [
       "<div>\n",
       "<style>\n",
       "    .dataframe thead tr:only-child th {\n",
       "        text-align: right;\n",
       "    }\n",
       "\n",
       "    .dataframe thead th {\n",
       "        text-align: left;\n",
       "    }\n",
       "\n",
       "    .dataframe tbody tr th {\n",
       "        vertical-align: top;\n",
       "    }\n",
       "</style>\n",
       "<table border=\"1\" class=\"dataframe\">\n",
       "  <thead>\n",
       "    <tr style=\"text-align: right;\">\n",
       "      <th></th>\n",
       "      <th>Average Votes</th>\n",
       "      <th>Book Rating</th>\n",
       "      <th>Book Title</th>\n",
       "      <th>Title</th>\n",
       "      <th>Movie Rating</th>\n",
       "      <th>Movie Revenue</th>\n",
       "    </tr>\n",
       "  </thead>\n",
       "  <tbody>\n",
       "    <tr>\n",
       "      <th>198</th>\n",
       "      <td>23</td>\n",
       "      <td>3.57</td>\n",
       "      <td>Woman of the Sun, Woman of the Moon</td>\n",
       "      <td>woman in the moon</td>\n",
       "      <td>7.4</td>\n",
       "      <td>NaN</td>\n",
       "    </tr>\n",
       "    <tr>\n",
       "      <th>199</th>\n",
       "      <td>17523</td>\n",
       "      <td>3.96</td>\n",
       "      <td>Ghost in the Wires: My Adventures as the World...</td>\n",
       "      <td>world on a wire</td>\n",
       "      <td>7.9</td>\n",
       "      <td>NaN</td>\n",
       "    </tr>\n",
       "    <tr>\n",
       "      <th>200</th>\n",
       "      <td>133</td>\n",
       "      <td>3.92</td>\n",
       "      <td>The World, the Flesh and the Devil</td>\n",
       "      <td>the world, the flesh and the devil</td>\n",
       "      <td>7.0</td>\n",
       "      <td>NaN</td>\n",
       "    </tr>\n",
       "    <tr>\n",
       "      <th>201</th>\n",
       "      <td>829770</td>\n",
       "      <td>4.02</td>\n",
       "      <td>A Wrinkle in Time (Time Quintet, #1)</td>\n",
       "      <td>a wrinkle in time</td>\n",
       "      <td>4.2</td>\n",
       "      <td>NaN</td>\n",
       "    </tr>\n",
       "    <tr>\n",
       "      <th>202</th>\n",
       "      <td>12705</td>\n",
       "      <td>3.65</td>\n",
       "      <td>Z for Zachariah</td>\n",
       "      <td>z for zachariah</td>\n",
       "      <td>6.0</td>\n",
       "      <td>118483.0</td>\n",
       "    </tr>\n",
       "  </tbody>\n",
       "</table>\n",
       "</div>"
      ],
      "text/plain": [
       "     Average Votes  Book Rating  \\\n",
       "198             23         3.57   \n",
       "199          17523         3.96   \n",
       "200            133         3.92   \n",
       "201         829770         4.02   \n",
       "202          12705         3.65   \n",
       "\n",
       "                                            Book Title  \\\n",
       "198                Woman of the Sun, Woman of the Moon   \n",
       "199  Ghost in the Wires: My Adventures as the World...   \n",
       "200                 The World, the Flesh and the Devil   \n",
       "201               A Wrinkle in Time (Time Quintet, #1)   \n",
       "202                                    Z for Zachariah   \n",
       "\n",
       "                                  Title  Movie Rating  Movie Revenue  \n",
       "198                   woman in the moon           7.4            NaN  \n",
       "199                     world on a wire           7.9            NaN  \n",
       "200  the world, the flesh and the devil           7.0            NaN  \n",
       "201                   a wrinkle in time           4.2            NaN  \n",
       "202                     z for zachariah           6.0       118483.0  "
      ]
     },
     "execution_count": 67,
     "metadata": {},
     "output_type": "execute_result"
    }
   ],
   "source": [
    "print(CombinedDF.shape)\n",
    "CombinedDF.tail()"
   ]
  },
  {
   "cell_type": "code",
   "execution_count": null,
   "metadata": {
    "collapsed": true
   },
   "outputs": [],
   "source": []
  }
 ],
 "metadata": {
  "kernelspec": {
   "display_name": "Python 3",
   "language": "python",
   "name": "python3"
  },
  "language_info": {
   "codemirror_mode": {
    "name": "ipython",
    "version": 3
   },
   "file_extension": ".py",
   "mimetype": "text/x-python",
   "name": "python",
   "nbconvert_exporter": "python",
   "pygments_lexer": "ipython3",
   "version": "3.6.2"
  }
 },
 "nbformat": 4,
 "nbformat_minor": 2
}
