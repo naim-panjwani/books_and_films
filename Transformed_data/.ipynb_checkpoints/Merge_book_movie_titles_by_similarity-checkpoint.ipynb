{
 "cells": [
  {
   "cell_type": "code",
   "execution_count": 1,
   "metadata": {
    "collapsed": true
   },
   "outputs": [],
   "source": [
    "import pandas as pd\n",
    "import numpy as np\n",
    "import re\n",
    "import matplotlib.pyplot as plt"
   ]
  },
  {
   "cell_type": "code",
   "execution_count": 2,
   "metadata": {},
   "outputs": [
    {
     "name": "stdout",
     "output_type": "stream",
     "text": [
      "(194, 3)\n"
     ]
    }
   ],
   "source": [
    "\n",
    "books = pd.read_csv('../input_csv/booklist_ratings.csv', encoding='utf8')\n",
    "books = books[['books','rating','average_votes']]\n",
    "print(books.shape)\n"
   ]
  },
  {
   "cell_type": "code",
   "execution_count": 4,
   "metadata": {},
   "outputs": [
    {
     "name": "stdout",
     "output_type": "stream",
     "text": [
      "(218, 4)\n"
     ]
    },
    {
     "data": {
      "text/html": [
       "<div>\n",
       "<style>\n",
       "    .dataframe thead tr:only-child th {\n",
       "        text-align: right;\n",
       "    }\n",
       "\n",
       "    .dataframe thead th {\n",
       "        text-align: left;\n",
       "    }\n",
       "\n",
       "    .dataframe tbody tr th {\n",
       "        vertical-align: top;\n",
       "    }\n",
       "</style>\n",
       "<table border=\"1\" class=\"dataframe\">\n",
       "  <thead>\n",
       "    <tr style=\"text-align: right;\">\n",
       "      <th></th>\n",
       "      <th>Title</th>\n",
       "      <th>Movie Rating</th>\n",
       "      <th>Book Rating</th>\n",
       "      <th>Movie Revenue</th>\n",
       "    </tr>\n",
       "  </thead>\n",
       "  <tbody>\n",
       "    <tr>\n",
       "      <th>0</th>\n",
       "      <td>around the world in eighty days</td>\n",
       "      <td>7.8</td>\n",
       "      <td>3.92</td>\n",
       "      <td>NaN</td>\n",
       "    </tr>\n",
       "    <tr>\n",
       "      <th>1</th>\n",
       "      <td>body snatchers</td>\n",
       "      <td>5.9</td>\n",
       "      <td>3.89</td>\n",
       "      <td>NaN</td>\n",
       "    </tr>\n",
       "    <tr>\n",
       "      <th>2</th>\n",
       "      <td>frankenstein</td>\n",
       "      <td>7.9</td>\n",
       "      <td>3.77</td>\n",
       "      <td>NaN</td>\n",
       "    </tr>\n",
       "    <tr>\n",
       "      <th>3</th>\n",
       "      <td>the invisible man</td>\n",
       "      <td>7.7</td>\n",
       "      <td>3.85</td>\n",
       "      <td>NaN</td>\n",
       "    </tr>\n",
       "    <tr>\n",
       "      <th>4</th>\n",
       "      <td>journey to the center of the earth</td>\n",
       "      <td>5.8</td>\n",
       "      <td>3.85</td>\n",
       "      <td>101653320.0</td>\n",
       "    </tr>\n",
       "  </tbody>\n",
       "</table>\n",
       "</div>"
      ],
      "text/plain": [
       "                                Title  Movie Rating  Book Rating  \\\n",
       "0     around the world in eighty days           7.8         3.92   \n",
       "1                      body snatchers           5.9         3.89   \n",
       "2                        frankenstein           7.9         3.77   \n",
       "3                   the invisible man           7.7         3.85   \n",
       "4  journey to the center of the earth           5.8         3.85   \n",
       "\n",
       "   Movie Revenue  \n",
       "0            NaN  \n",
       "1            NaN  \n",
       "2            NaN  \n",
       "3            NaN  \n",
       "4    101653320.0  "
      ]
     },
     "execution_count": 4,
     "metadata": {},
     "output_type": "execute_result"
    }
   ],
   "source": [
    "movies = pd.read_csv('CombinedDF.csv',engine='python')\n",
    "movies = movies[['Title','Movie Rating', 'Book Rating','Movie Revenue']]\n",
    "print(movies.shape)\n",
    "movies.head()\n"
   ]
  },
  {
   "cell_type": "code",
   "execution_count": 5,
   "metadata": {},
   "outputs": [
    {
     "data": {
      "text/plain": [
       "[0,\n",
       " 1,\n",
       " 2,\n",
       " 3,\n",
       " 4,\n",
       " 5,\n",
       " 6,\n",
       " 7,\n",
       " 8,\n",
       " 9,\n",
       " 11,\n",
       " 84,\n",
       " 13,\n",
       " 14,\n",
       " 15,\n",
       " 16,\n",
       " 17,\n",
       " 18,\n",
       " 19,\n",
       " 20,\n",
       " 21,\n",
       " 22,\n",
       " 23,\n",
       " 24,\n",
       " 27,\n",
       " 26,\n",
       " 29,\n",
       " 30,\n",
       " 31,\n",
       " 32,\n",
       " 33,\n",
       " 203,\n",
       " 35,\n",
       " 36,\n",
       " 38,\n",
       " 39,\n",
       " 40,\n",
       " 41,\n",
       " 42,\n",
       " 43,\n",
       " 44,\n",
       " 112,\n",
       " 194,\n",
       " 47,\n",
       " 48,\n",
       " 49,\n",
       " 50,\n",
       " 51,\n",
       " 52,\n",
       " 53,\n",
       " 54,\n",
       " 55,\n",
       " 56,\n",
       " 163,\n",
       " 58,\n",
       " 59,\n",
       " 60,\n",
       " 61,\n",
       " 62,\n",
       " 80,\n",
       " 64,\n",
       " 65,\n",
       " 66,\n",
       " 204,\n",
       " 68,\n",
       " 11,\n",
       " 70,\n",
       " 71,\n",
       " 72,\n",
       " 76,\n",
       " 75,\n",
       " 76,\n",
       " 77,\n",
       " 111,\n",
       " 9,\n",
       " 80,\n",
       " 81,\n",
       " 82,\n",
       " 83,\n",
       " 8,\n",
       " 86,\n",
       " 87,\n",
       " 88,\n",
       " 89,\n",
       " 90,\n",
       " 91,\n",
       " 92,\n",
       " 93,\n",
       " 94,\n",
       " 95,\n",
       " 35,\n",
       " 97,\n",
       " 122,\n",
       " 99,\n",
       " 100,\n",
       " 101,\n",
       " 102,\n",
       " 103,\n",
       " 104,\n",
       " 11,\n",
       " 106,\n",
       " 107,\n",
       " 108,\n",
       " 110,\n",
       " 111,\n",
       " 112,\n",
       " 113,\n",
       " 114,\n",
       " 116,\n",
       " 108,\n",
       " 118,\n",
       " 119,\n",
       " 121,\n",
       " 122,\n",
       " 124,\n",
       " 110,\n",
       " 126,\n",
       " 128,\n",
       " 129,\n",
       " 130,\n",
       " 216,\n",
       " 132,\n",
       " 134,\n",
       " 134,\n",
       " 135,\n",
       " 81,\n",
       " 137,\n",
       " 138,\n",
       " 94,\n",
       " 140,\n",
       " 141,\n",
       " 142,\n",
       " 143,\n",
       " 144,\n",
       " 113,\n",
       " 147,\n",
       " 148,\n",
       " 150,\n",
       " 151,\n",
       " 152,\n",
       " 153,\n",
       " 154,\n",
       " 155,\n",
       " 156,\n",
       " 158,\n",
       " 127,\n",
       " 160,\n",
       " 161,\n",
       " 162,\n",
       " 163,\n",
       " 11,\n",
       " 169,\n",
       " 170,\n",
       " 171,\n",
       " 173,\n",
       " 174,\n",
       " 176,\n",
       " 4,\n",
       " 178,\n",
       " 75,\n",
       " 180,\n",
       " 181,\n",
       " 182,\n",
       " 183,\n",
       " 116,\n",
       " 185,\n",
       " 215,\n",
       " 187,\n",
       " 188,\n",
       " 189,\n",
       " 190,\n",
       " 20,\n",
       " 181,\n",
       " 194,\n",
       " 195,\n",
       " 196,\n",
       " 197,\n",
       " 198,\n",
       " 199,\n",
       " 200,\n",
       " 201,\n",
       " 202,\n",
       " 203,\n",
       " 205,\n",
       " 33,\n",
       " 216,\n",
       " 116,\n",
       " 86,\n",
       " 212,\n",
       " 213,\n",
       " 4,\n",
       " 215,\n",
       " 216,\n",
       " 217]"
      ]
     },
     "execution_count": 5,
     "metadata": {},
     "output_type": "execute_result"
    }
   ],
   "source": [
    "\n",
    "from difflib import SequenceMatcher\n",
    "\n",
    "def similar(a, b):\n",
    "    return SequenceMatcher(None, a, b).ratio()\n",
    "\n",
    "def mostsimilar(word, alist):\n",
    "    scores = [similar(word, word_in_list) for word_in_list in alist]\n",
    "    return scores.index(max(scores))\n",
    "\n",
    "indexes_for_movies = []\n",
    "for bookTitle in list(books['books']):\n",
    "    indexes_for_movies.append(mostsimilar(bookTitle, list(movies['Title'])))\n",
    "    \n",
    "\n",
    "indexes_for_movies\n",
    "    \n"
   ]
  },
  {
   "cell_type": "code",
   "execution_count": 6,
   "metadata": {},
   "outputs": [
    {
     "data": {
      "text/plain": [
       "194"
      ]
     },
     "execution_count": 6,
     "metadata": {},
     "output_type": "execute_result"
    }
   ],
   "source": [
    "len(indexes_for_movies)"
   ]
  },
  {
   "cell_type": "code",
   "execution_count": 7,
   "metadata": {},
   "outputs": [
    {
     "name": "stdout",
     "output_type": "stream",
     "text": [
      "(194, 4)\n"
     ]
    },
    {
     "data": {
      "text/html": [
       "<div>\n",
       "<style>\n",
       "    .dataframe thead tr:only-child th {\n",
       "        text-align: right;\n",
       "    }\n",
       "\n",
       "    .dataframe thead th {\n",
       "        text-align: left;\n",
       "    }\n",
       "\n",
       "    .dataframe tbody tr th {\n",
       "        vertical-align: top;\n",
       "    }\n",
       "</style>\n",
       "<table border=\"1\" class=\"dataframe\">\n",
       "  <thead>\n",
       "    <tr style=\"text-align: right;\">\n",
       "      <th></th>\n",
       "      <th>Title</th>\n",
       "      <th>Movie Rating</th>\n",
       "      <th>Book Rating</th>\n",
       "      <th>Movie Revenue</th>\n",
       "    </tr>\n",
       "  </thead>\n",
       "  <tbody>\n",
       "    <tr>\n",
       "      <th>0</th>\n",
       "      <td>around the world in eighty days</td>\n",
       "      <td>7.8</td>\n",
       "      <td>3.92</td>\n",
       "      <td>NaN</td>\n",
       "    </tr>\n",
       "    <tr>\n",
       "      <th>1</th>\n",
       "      <td>body snatchers</td>\n",
       "      <td>5.9</td>\n",
       "      <td>3.89</td>\n",
       "      <td>NaN</td>\n",
       "    </tr>\n",
       "    <tr>\n",
       "      <th>2</th>\n",
       "      <td>frankenstein</td>\n",
       "      <td>7.9</td>\n",
       "      <td>3.77</td>\n",
       "      <td>NaN</td>\n",
       "    </tr>\n",
       "    <tr>\n",
       "      <th>3</th>\n",
       "      <td>the invisible man</td>\n",
       "      <td>7.7</td>\n",
       "      <td>3.85</td>\n",
       "      <td>NaN</td>\n",
       "    </tr>\n",
       "    <tr>\n",
       "      <th>4</th>\n",
       "      <td>journey to the center of the earth</td>\n",
       "      <td>5.8</td>\n",
       "      <td>3.85</td>\n",
       "      <td>101653320.0</td>\n",
       "    </tr>\n",
       "  </tbody>\n",
       "</table>\n",
       "</div>"
      ],
      "text/plain": [
       "                                Title  Movie Rating  Book Rating  \\\n",
       "0     around the world in eighty days           7.8         3.92   \n",
       "1                      body snatchers           5.9         3.89   \n",
       "2                        frankenstein           7.9         3.77   \n",
       "3                   the invisible man           7.7         3.85   \n",
       "4  journey to the center of the earth           5.8         3.85   \n",
       "\n",
       "   Movie Revenue  \n",
       "0            NaN  \n",
       "1            NaN  \n",
       "2            NaN  \n",
       "3            NaN  \n",
       "4    101653320.0  "
      ]
     },
     "execution_count": 7,
     "metadata": {},
     "output_type": "execute_result"
    }
   ],
   "source": [
    "new_movies_df = movies.iloc[indexes_for_movies,:]\n",
    "print(new_movies_df.shape)\n",
    "new_movies_df.head()"
   ]
  },
  {
   "cell_type": "code",
   "execution_count": 8,
   "metadata": {},
   "outputs": [
    {
     "name": "stdout",
     "output_type": "stream",
     "text": [
      "(194, 7)\n"
     ]
    },
    {
     "name": "stderr",
     "output_type": "stream",
     "text": [
      "C:\\Users\\naime\\Anaconda3\\lib\\site-packages\\ipykernel_launcher.py:5: SettingWithCopyWarning: \n",
      "A value is trying to be set on a copy of a slice from a DataFrame.\n",
      "Try using .loc[row_indexer,col_indexer] = value instead\n",
      "\n",
      "See the caveats in the documentation: http://pandas.pydata.org/pandas-docs/stable/indexing.html#indexing-view-versus-copy\n",
      "  \"\"\"\n"
     ]
    },
    {
     "data": {
      "text/html": [
       "<div>\n",
       "<style>\n",
       "    .dataframe thead tr:only-child th {\n",
       "        text-align: right;\n",
       "    }\n",
       "\n",
       "    .dataframe thead th {\n",
       "        text-align: left;\n",
       "    }\n",
       "\n",
       "    .dataframe tbody tr th {\n",
       "        vertical-align: top;\n",
       "    }\n",
       "</style>\n",
       "<table border=\"1\" class=\"dataframe\">\n",
       "  <thead>\n",
       "    <tr style=\"text-align: right;\">\n",
       "      <th></th>\n",
       "      <th>Movie Title</th>\n",
       "      <th>Movie Rating</th>\n",
       "      <th>Movie Revenue</th>\n",
       "      <th>books</th>\n",
       "      <th>rating</th>\n",
       "      <th>average_votes</th>\n",
       "    </tr>\n",
       "  </thead>\n",
       "  <tbody>\n",
       "    <tr>\n",
       "      <th>0</th>\n",
       "      <td>around the world in eighty days</td>\n",
       "      <td>7.8</td>\n",
       "      <td>NaN</td>\n",
       "      <td>Around the World in Eighty Days (Extraordinary...</td>\n",
       "      <td>3.92</td>\n",
       "      <td>156095.0</td>\n",
       "    </tr>\n",
       "    <tr>\n",
       "      <th>1</th>\n",
       "      <td>body snatchers</td>\n",
       "      <td>5.9</td>\n",
       "      <td>NaN</td>\n",
       "      <td>Invasion of the Body Snatchers</td>\n",
       "      <td>3.89</td>\n",
       "      <td>17372.0</td>\n",
       "    </tr>\n",
       "    <tr>\n",
       "      <th>2</th>\n",
       "      <td>frankenstein</td>\n",
       "      <td>7.9</td>\n",
       "      <td>NaN</td>\n",
       "      <td>Frankenstein</td>\n",
       "      <td>3.77</td>\n",
       "      <td>992097.0</td>\n",
       "    </tr>\n",
       "    <tr>\n",
       "      <th>3</th>\n",
       "      <td>the invisible man</td>\n",
       "      <td>7.7</td>\n",
       "      <td>NaN</td>\n",
       "      <td>Invisible Man</td>\n",
       "      <td>3.85</td>\n",
       "      <td>139953.0</td>\n",
       "    </tr>\n",
       "    <tr>\n",
       "      <th>4</th>\n",
       "      <td>journey to the center of the earth</td>\n",
       "      <td>5.8</td>\n",
       "      <td>101653320.0</td>\n",
       "      <td>Journey to the Center of the Earth (Extraordin...</td>\n",
       "      <td>3.85</td>\n",
       "      <td>126361.0</td>\n",
       "    </tr>\n",
       "  </tbody>\n",
       "</table>\n",
       "</div>"
      ],
      "text/plain": [
       "                          Movie Title  Movie Rating  Movie Revenue  \\\n",
       "0     around the world in eighty days           7.8            NaN   \n",
       "1                      body snatchers           5.9            NaN   \n",
       "2                        frankenstein           7.9            NaN   \n",
       "3                   the invisible man           7.7            NaN   \n",
       "4  journey to the center of the earth           5.8    101653320.0   \n",
       "\n",
       "                                               books  rating  average_votes  \n",
       "0  Around the World in Eighty Days (Extraordinary...    3.92       156095.0  \n",
       "1                     Invasion of the Body Snatchers    3.89        17372.0  \n",
       "2                                       Frankenstein    3.77       992097.0  \n",
       "3                                      Invisible Man    3.85       139953.0  \n",
       "4  Journey to the Center of the Earth (Extraordin...    3.85       126361.0  "
      ]
     },
     "execution_count": 8,
     "metadata": {},
     "output_type": "execute_result"
    }
   ],
   "source": [
    "# pd.concat([new_movies_df, books],axis=1) is not working, so doing this manually:\n",
    "\n",
    "merged_df = new_movies_df\n",
    "for column_i in np.arange(books.shape[1]):\n",
    "    merged_df[books.columns[column_i]] = books.iloc[:,column_i]\n",
    "\n",
    "print(merged_df.shape)\n",
    "merged_df = merged_df.rename(columns={'Title': 'Movie Title'})\n",
    "merged_df = merged_df.iloc[:,[0,1,3,4,5,6]]\n",
    "merged_df.head()"
   ]
  },
  {
   "cell_type": "code",
   "execution_count": 9,
   "metadata": {
    "collapsed": true
   },
   "outputs": [],
   "source": [
    "merged_df.to_csv('merged_book_and_movie_titles.csv', index=False, encoding='utf8')"
   ]
  },
  {
   "cell_type": "code",
   "execution_count": 10,
   "metadata": {},
   "outputs": [
    {
     "name": "stdout",
     "output_type": "stream",
     "text": [
      "(154, 2)\n"
     ]
    },
    {
     "data": {
      "text/html": [
       "<div>\n",
       "<style>\n",
       "    .dataframe thead tr:only-child th {\n",
       "        text-align: right;\n",
       "    }\n",
       "\n",
       "    .dataframe thead th {\n",
       "        text-align: left;\n",
       "    }\n",
       "\n",
       "    .dataframe tbody tr th {\n",
       "        vertical-align: top;\n",
       "    }\n",
       "</style>\n",
       "<table border=\"1\" class=\"dataframe\">\n",
       "  <thead>\n",
       "    <tr style=\"text-align: right;\">\n",
       "      <th></th>\n",
       "      <th>Movie Rating</th>\n",
       "      <th>Book Rating</th>\n",
       "    </tr>\n",
       "  </thead>\n",
       "  <tbody>\n",
       "    <tr>\n",
       "      <th>0</th>\n",
       "      <td>7.8</td>\n",
       "      <td>3.92</td>\n",
       "    </tr>\n",
       "    <tr>\n",
       "      <th>1</th>\n",
       "      <td>5.9</td>\n",
       "      <td>3.89</td>\n",
       "    </tr>\n",
       "    <tr>\n",
       "      <th>2</th>\n",
       "      <td>7.9</td>\n",
       "      <td>3.77</td>\n",
       "    </tr>\n",
       "    <tr>\n",
       "      <th>3</th>\n",
       "      <td>7.7</td>\n",
       "      <td>3.85</td>\n",
       "    </tr>\n",
       "    <tr>\n",
       "      <th>4</th>\n",
       "      <td>5.8</td>\n",
       "      <td>3.85</td>\n",
       "    </tr>\n",
       "  </tbody>\n",
       "</table>\n",
       "</div>"
      ],
      "text/plain": [
       "   Movie Rating  Book Rating\n",
       "0           7.8         3.92\n",
       "1           5.9         3.89\n",
       "2           7.9         3.77\n",
       "3           7.7         3.85\n",
       "4           5.8         3.85"
      ]
     },
     "execution_count": 10,
     "metadata": {},
     "output_type": "execute_result"
    }
   ],
   "source": [
    "ratings_df = merged_df[['Movie Rating', 'rating']]\n",
    "ratings_df = ratings_df.rename(columns={'rating': 'Book Rating'})\n",
    "ratings_df.dropna(inplace=True)\n",
    "\n",
    "print(ratings_df.shape)\n",
    "ratings_df.head()"
   ]
  },
  {
   "cell_type": "code",
   "execution_count": 11,
   "metadata": {},
   "outputs": [
    {
     "data": {
      "image/png": "[encoded data removed]",
      "text/plain": [
       "<matplotlib.figure.Figure at 0x1b23b2decc0>"
      ]
     },
     "metadata": {},
     "output_type": "display_data"
    }
   ],
   "source": [
    "ratings_df.plot('Movie Rating', 'Book Rating', kind='scatter')\n",
    "plt.show()"
   ]
  },
  {
   "cell_type": "code",
   "execution_count": 12,
   "metadata": {},
   "outputs": [
    {
     "data": {
      "text/plain": [
       "8.5999999999999996"
      ]
     },
     "execution_count": 12,
     "metadata": {},
     "output_type": "execute_result"
    }
   ],
   "source": [
    "max(ratings_df['Movie Rating'])"
   ]
  },
  {
   "cell_type": "code",
   "execution_count": 13,
   "metadata": {},
   "outputs": [
    {
     "data": {
      "text/plain": [
       "4      101653320.0\n",
       "7      178094583.0\n",
       "24      20636742.0\n",
       "26       4563873.0\n",
       "30      22489779.0\n",
       "48      35100000.0\n",
       "50      20476300.0\n",
       "51       7800000.0\n",
       "53      22100000.0\n",
       "81      77121429.0\n",
       "83      61656849.0\n",
       "95      33480518.0\n",
       "104     51019112.0\n",
       "106    407981652.0\n",
       "107    256399999.0\n",
       "108     55086029.0\n",
       "108     55086029.0\n",
       "118     45299680.0\n",
       "119     50040205.0\n",
       "132    202313768.0\n",
       "134     57074211.0\n",
       "134     57074211.0\n",
       "81      77121429.0\n",
       "138       529603.0\n",
       "143      2412045.0\n",
       "150       720502.0\n",
       "155     53100000.0\n",
       "158     53400000.0\n",
       "161       169298.0\n",
       "169      8025059.0\n",
       "173      5281537.0\n",
       "4      101653320.0\n",
       "178     14780776.0\n",
       "188     59341993.0\n",
       "197     56684819.0\n",
       "198     63387284.0\n",
       "199     19375474.0\n",
       "4      101653320.0\n",
       "217       118483.0\n",
       "Name: Movie Revenue, dtype: float64"
      ]
     },
     "execution_count": 13,
     "metadata": {},
     "output_type": "execute_result"
    }
   ],
   "source": [
    "merged_df['Movie Revenue'].dropna()"
   ]
  },
  {
   "cell_type": "code",
   "execution_count": null,
   "metadata": {
    "collapsed": true
   },
   "outputs": [],
   "source": []
  }
 ],
 "metadata": {
  "kernelspec": {
   "display_name": "Python 3",
   "language": "python",
   "name": "python3"
  },
  "language_info": {
   "codemirror_mode": {
    "name": "ipython",
    "version": 3
   },
   "file_extension": ".py",
   "mimetype": "text/x-python",
   "name": "python",
   "nbconvert_exporter": "python",
   "pygments_lexer": "ipython3",
   "version": "3.6.2"
  }
 },
 "nbformat": 4,
 "nbformat_minor": 2
}
