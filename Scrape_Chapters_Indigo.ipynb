{
 "cells": [
  {
   "cell_type": "code",
   "execution_count": 24,
   "metadata": {
    "collapsed": true
   },
   "outputs": [],
   "source": [
    "# import required libraries\n",
    "import pandas as pd\n",
    "import requests\n",
    "import os\n",
    "from bs4 import BeautifulSoup as bs\n",
    "from pprint import pprint\n",
    "import matplotlib.pyplot as plt\n",
    "import re"
   ]
  },
  {
   "cell_type": "code",
   "execution_count": 2,
   "metadata": {
    "collapsed": true
   },
   "outputs": [],
   "source": [
    "base_url = 'https://www.chapters.indigo.ca/en-ca/books/search/?keywords='\n",
    "search_term = 'Harry+Potter'"
   ]
  },
  {
   "cell_type": "code",
   "execution_count": 34,
   "metadata": {},
   "outputs": [],
   "source": [
    "url = base_url + search_term\n",
    "response = requests.get(url)\n",
    "soup = bs(response.text, 'html.parser')\n",
    "results = soup.find_all('div', class_='product-details__description-container')\n",
    "# The star ratings are not available when scraping this way on Chapters; we are not authorized"
   ]
  },
  {
   "cell_type": "code",
   "execution_count": 55,
   "metadata": {},
   "outputs": [
    {
     "name": "stdout",
     "output_type": "stream",
     "text": [
      "response:  <Response [200]>\n"
     ]
    }
   ],
   "source": [
    "# Tigran found a roadblock with Amazon as well in that \n",
    "# he was getting blocked just after a few requests, even from different IP addresses\n",
    "# Callan double-checked scraping Amazon, and got the same result; blocked after a few queries\n",
    "\n",
    "# Checking if GoodReads is a viable source\n",
    "url = 'https://www.goodreads.com/search?utf8=%E2%9C%93&query=harry+potter'\n",
    "response = requests.get(url)\n",
    "print(\"response: \", response)\n",
    "soup = bs(response.text, 'html.parser')\n",
    "results = soup.find_all('div')\n",
    "results"
   ]
  },
  {
   "cell_type": "code",
   "execution_count": 62,
   "metadata": {},
   "outputs": [
    {
     "data": {
      "text/plain": [
       "' 4.46 avg rating — 5,721,338 ratings'"
      ]
     },
     "execution_count": 62,
     "metadata": {},
     "output_type": "execute_result"
    }
   ],
   "source": [
    "results[1].find('span', class_=\"minirating\").text\n"
   ]
  },
  {
   "cell_type": "code",
   "execution_count": null,
   "metadata": {
    "collapsed": true
   },
   "outputs": [],
   "source": [
    "# GoodReads is scrappable!\n",
    "# Purnima is working on this.\n"
   ]
  }
 ],
 "metadata": {
  "kernelspec": {
   "display_name": "Python 3",
   "language": "python",
   "name": "python3"
  },
  "language_info": {
   "codemirror_mode": {
    "name": "ipython",
    "version": 3
   },
   "file_extension": ".py",
   "mimetype": "text/x-python",
   "name": "python",
   "nbconvert_exporter": "python",
   "pygments_lexer": "ipython3",
   "version": "3.6.2"
  }
 },
 "nbformat": 4,
 "nbformat_minor": 2
}
