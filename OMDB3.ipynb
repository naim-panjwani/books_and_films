{
 "cells": [
  {
   "cell_type": "code",
   "execution_count": 10,
   "metadata": {},
   "outputs": [
    {
     "name": "stdout",
     "output_type": "stream",
     "text": [
      "{'Actors': 'Christian Bale, Heath Ledger, Aaron Eckhart, Michael Caine',\n",
      " 'Awards': 'Won 2 Oscars. Another 152 wins & 155 nominations.',\n",
      " 'BoxOffice': '$533,316,061',\n",
      " 'Country': 'USA, UK',\n",
      " 'DVD': '09 Dec 2008',\n",
      " 'Director': 'Christopher Nolan',\n",
      " 'Genre': 'Action, Crime, Drama, Thriller',\n",
      " 'Language': 'English, Mandarin',\n",
      " 'Metascore': '84',\n",
      " 'Plot': 'When the menace known as the Joker emerges from his mysterious past, '\n",
      "         'he wreaks havoc and chaos on the people of Gotham. The Dark Knight '\n",
      "         'must accept one of the greatest psychological and physical tests of '\n",
      "         'his ability to fight injustice.',\n",
      " 'Poster': 'https://m.media-amazon.com/images/M/MV5BMTMxNTMwODM0NF5BMl5BanBnXkFtZTcwODAyMTk2Mw@@._V1_SX300.jpg',\n",
      " 'Production': 'Warner Bros. Pictures/Legendary',\n",
      " 'Rated': 'PG-13',\n",
      " 'Ratings': [{'Source': 'Internet Movie Database', 'Value': '9.0/10'},\n",
      "             {'Source': 'Rotten Tomatoes', 'Value': '94%'},\n",
      "             {'Source': 'Metacritic', 'Value': '84/100'}],\n",
      " 'Released': '18 Jul 2008',\n",
      " 'Response': 'True',\n",
      " 'Runtime': '152 min',\n",
      " 'Title': 'The Dark Knight',\n",
      " 'Type': 'movie',\n",
      " 'Website': 'http://thedarkknight.warnerbros.com/',\n",
      " 'Writer': 'Jonathan Nolan (screenplay), Christopher Nolan (screenplay), '\n",
      "           'Christopher Nolan (story), David S. Goyer (story), Bob Kane '\n",
      "           '(characters)',\n",
      " 'Year': '2008',\n",
      " 'imdbID': 'tt0468569',\n",
      " 'imdbRating': '9.0',\n",
      " 'imdbVotes': '2,005,606'}\n"
     ]
    }
   ],
   "source": [
    "# Dependencies\n",
    "import requests\n",
    "import pandas as pd\n",
    "from pprint import pprint\n",
    "import csv\n",
    "\n",
    "# Import API Key - optional\n",
    "#import api_keys\n",
    "\n",
    "#URL Components\n",
    "url = \"http://www.omdbapi.com/?t=\"\n",
    "key = \"3fb5f5bd\"\n",
    "\n",
    "movieTitle = \"The Dark Knight\"\n",
    "combinedURL = url + movieTitle + \"&apikey=\" + key\n",
    "#print (combinedURL)\n",
    "response = requests.get(combinedURL).json()\n",
    "pprint(response)\n",
    "\n",
    "movieTitle = [\"Aliens\", \"Gladiator\", \"50 First Dates\", \"Moana\", \"Sing\"]\n",
    "#attributes = [\"IMDBRating\", \"BoxOffice\", \"Year\", \"Writer\", \"Plot\"]\n"
   ]
  },
  {
   "cell_type": "code",
   "execution_count": 19,
   "metadata": {},
   "outputs": [
    {
     "name": "stdout",
     "output_type": "stream",
     "text": [
      "\n",
      "Movie Title: Aliens\n",
      "http://www.omdbapi.com/?t=Aliens&apikey=3fb5f5bd\n",
      "imdbRating: 8.4\n",
      "BoxOffice: N/A\n",
      "\n",
      "Movie Title: Gladiator\n",
      "http://www.omdbapi.com/?t=Gladiator&apikey=3fb5f5bd\n",
      "imdbRating: 8.5\n",
      "BoxOffice: N/A\n",
      "\n",
      "Movie Title: 50 First Dates\n",
      "http://www.omdbapi.com/?t=50 First Dates&apikey=3fb5f5bd\n",
      "imdbRating: 6.8\n",
      "BoxOffice: $120,776,832\n",
      "\n",
      "Movie Title: Moana\n",
      "http://www.omdbapi.com/?t=Moana&apikey=3fb5f5bd\n",
      "imdbRating: 7.6\n",
      "BoxOffice: $248,752,120\n",
      "\n",
      "Movie Title: Sing\n",
      "http://www.omdbapi.com/?t=Sing&apikey=3fb5f5bd\n",
      "imdbRating: 7.1\n",
      "BoxOffice: $270,322,940\n",
      "['N/A', 'N/A', '$120,776,832', '$248,752,120', '$270,322,940']\n"
     ]
    }
   ],
   "source": [
    "imdbRatings = []\n",
    "BoxOfficeReturns = []\n",
    "\n",
    "for i in movieTitle:\n",
    "    combinedURL = url + i + \"&apikey=\" + key\n",
    "    response = requests.get(combinedURL).json()\n",
    "    print(\"\\nMovie Title: \" + i)\n",
    "    print(combinedURL)\n",
    "    print(\"imdbRating: \" + response[\"imdbRating\"])\n",
    "    imdbRatings.append(response[\"imdbRating\"])\n",
    "    print(\"BoxOffice: \" + response[\"BoxOffice\"])\n",
    "    BoxOfficeReturns.append(response[\"BoxOffice\"])\n",
    "\n",
    "print(BoxOfficeReturns)"
   ]
  },
  {
   "cell_type": "raw",
   "metadata": {},
   "source": []
  },
  {
   "cell_type": "code",
   "execution_count": 18,
   "metadata": {},
   "outputs": [
    {
     "ename": "SyntaxError",
     "evalue": "invalid syntax (<ipython-input-18-a997e65de989>, line 21)",
     "output_type": "error",
     "traceback": [
      "\u001b[0;36m  File \u001b[0;32m\"<ipython-input-18-a997e65de989>\"\u001b[0;36m, line \u001b[0;32m21\u001b[0m\n\u001b[0;31m    print(BoxOfficeReturns)\u001b[0m\n\u001b[0m        ^\u001b[0m\n\u001b[0;31mSyntaxError\u001b[0m\u001b[0;31m:\u001b[0m invalid syntax\n"
     ]
    }
   ],
   "source": [
    "#Import Movie List - use these titles in api query\n",
    "with open('movielist.csv', 'r') as f:\n",
    "    reader = csv.reader(f)\n",
    "    movieList = list(reader)\n",
    "print(movieList)\n",
    "\n",
    "for i in range(len(movieList)):\n",
    "    try:\n",
    "        combinedURL = url + str(movieList[i][0]) + \"&apikey=\" + key\n",
    "        print(combinedURL)\n",
    "        response = requests.get(combinedURL).json()\n",
    "        print(\"\\nMovie Title: \" + str(movieList[i][0]))\n",
    "        print(\"imdbRating: \" + response[\"imdbRating\"])\n",
    "        print(\"BoxOffice: \" + response[\"BoxOffice\"])\n",
    "        imdbRatings.append(response[\"imdbRating\"])\n",
    "        BoxOfficeReturns.append(response[\"BoxOffice\"])\n",
    "    except:\n",
    "        print(str(movieList[i][0] + \"Could not be found\")\n",
    "        \n",
    "\n",
    "print(BoxOfficeReturns)"
   ]
  },
  {
   "cell_type": "code",
   "execution_count": 34,
   "metadata": {
    "scrolled": true
   },
   "outputs": [
    {
     "data": {
      "text/plain": [
       "'R'"
      ]
     },
     "execution_count": 34,
     "metadata": {},
     "output_type": "execute_result"
    }
   ],
   "source": [
    "# What was the movie Gladiator rated?\n",
    "movieTitle = \"Gladiator\"\n",
    "combinedURL = url + movieTitle + \"&apikey=\" + key\n",
    "response = requests.get(combinedURL).json()\n",
    "response[\"Rated\"]"
   ]
  },
  {
   "cell_type": "code",
   "execution_count": 35,
   "metadata": {
    "scrolled": true
   },
   "outputs": [
    {
     "data": {
      "text/plain": [
       "'13 Feb 2004'"
      ]
     },
     "execution_count": 35,
     "metadata": {},
     "output_type": "execute_result"
    }
   ],
   "source": [
    "# What year was 50 First Dates released?\n",
    "movieTitle = \"50  First Dates\"\n",
    "combinedURL = url + movieTitle + \"&apikey=\" + key\n",
    "response = requests.get(combinedURL).json()\n",
    "response[\"Released\"]"
   ]
  },
  {
   "cell_type": "code",
   "execution_count": 5,
   "metadata": {
    "scrolled": true
   },
   "outputs": [
    {
     "data": {
      "text/plain": [
       "'Jared Bush (screenplay by), Ron Clements (story by), John Musker (story by), Chris Williams (story by), Don Hall (story by), Pamela Ribon (story by), Aaron Kandell (story by), Jordan Kandell (story by)'"
      ]
     },
     "execution_count": 5,
     "metadata": {},
     "output_type": "execute_result"
    }
   ],
   "source": [
    "# Who wrote Moana?\n",
    "movieTitle = \"Moana\"\n",
    "combinedURL = url + movieTitle + \"&apikey=\" + key\n",
    "response = requests.get(combinedURL).json()\n",
    "response[\"Writer\"]"
   ]
  },
  {
   "cell_type": "code",
   "execution_count": 6,
   "metadata": {
    "scrolled": true
   },
   "outputs": [
    {
     "data": {
      "text/plain": [
       "\"In a city of humanoid animals, a hustling theater impresario's attempt to save his theater with a singing competition becomes grander than he anticipates even as its finalists' find that their lives will never be the same.\""
      ]
     },
     "execution_count": 6,
     "metadata": {},
     "output_type": "execute_result"
    }
   ],
   "source": [
    "# What was the plot of the movie Sing?\n",
    "movieTitle = \"Sing\"\n",
    "combinedURL = url + movieTitle + \"&apikey=\" + key\n",
    "response = requests.get(combinedURL).json()\n",
    "response[\"Plot\"]"
   ]
  },
  {
   "cell_type": "code",
   "execution_count": null,
   "metadata": {},
   "outputs": [],
   "source": []
  }
 ],
 "metadata": {
  "kernelspec": {
   "display_name": "Python 3",
   "language": "python",
   "name": "python3"
  },
  "language_info": {
   "codemirror_mode": {
    "name": "ipython",
    "version": 3
   },
   "file_extension": ".py",
   "mimetype": "text/x-python",
   "name": "python",
   "nbconvert_exporter": "python",
   "pygments_lexer": "ipython3",
   "version": "3.7.0"
  },
  "varInspector": {
   "cols": {
    "lenName": 16,
    "lenType": 16,
    "lenVar": 40
   },
   "kernels_config": {
    "python": {
     "delete_cmd_postfix": "",
     "delete_cmd_prefix": "del ",
     "library": "var_list.py",
     "varRefreshCmd": "print(var_dic_list())"
    },
    "r": {
     "delete_cmd_postfix": ") ",
     "delete_cmd_prefix": "rm(",
     "library": "var_list.r",
     "varRefreshCmd": "cat(var_dic_list()) "
    }
   },
   "types_to_exclude": [
    "module",
    "function",
    "builtin_function_or_method",
    "instance",
    "_Feature"
   ],
   "window_display": false
  }
 },
 "nbformat": 4,
 "nbformat_minor": 2
}
